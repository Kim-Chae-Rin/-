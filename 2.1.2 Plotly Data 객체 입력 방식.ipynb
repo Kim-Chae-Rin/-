{
 "cells": [
  {
   "cell_type": "markdown",
   "id": "af1382b1",
   "metadata": {},
   "source": [
    "# Plotly Data 객체 입력 방식"
   ]
  },
  {
   "cell_type": "markdown",
   "id": "d57741ba",
   "metadata": {},
   "source": [
    "### 방법 1. add_trace( ) 함수 사용\n",
    "- 맨 처음 fig를 정의하고 그 후에 데이터를 추가\n",
    "- 그래프를 중첩하여 그리고 싶다면 add_trace()를 연속으로 사용\n",
    "- update_layout()을 사용하여 디자인 변경\n",
    "```python\n",
    "fig = go.Figure()\n",
    "fig.add_trace(go.Bar())\n",
    "fig.add_trace(go.Bar())\n",
    "fig.show()\n",
    "```\n",
    "\n",
    "### 방법 2. Figure( ) 함수 사용 - 1\n",
    "- Figure()에 직접적으로 data객체를 정의하여 넣어주는 방법\n",
    "- go.Figure(data = []) 형식\n",
    "- 반드시 data 객체를 대괄호 []로 묶어줘야 한다\n",
    "- 그래프를 중첩의 경우에는 data = [ trace1, trace2 ]와 같이 리스트 형식으로 묶어줌\n",
    "```python\n",
    "fig = go.Figure(\n",
    "    data = [go.Bar(), go.Bar()]\n",
    ")\n",
    "fig.show()\n",
    "```\n",
    "\n",
    "### 방법 3. Figure( ) 함수 사용 - 2\n",
    "- data객체를 사전에 정의한 뒤, 마지막에 Figure()에 넣어주는 방법\n",
    "```python\n",
    "trace1 = go.Bar()\n",
    "trace2 = go.Bar()\n",
    "data = [trace1, trace2]\n",
    "fig = go.Figure(data)\n",
    "fig.show()\n",
    "```"
   ]
  },
  {
   "cell_type": "markdown",
   "id": "f298e7ed",
   "metadata": {},
   "source": [
    "## Plotly 시각화 기본 구문"
   ]
  },
  {
   "cell_type": "code",
   "execution_count": null,
   "id": "6d11a556",
   "metadata": {},
   "outputs": [],
   "source": [
    "import plotly.graph_objects as go\n",
    "trace = go.Chart()\n",
    "data = [trace]\n",
    "layout = go.Layout()\n",
    "fig = go.Figure(data, layout)\n",
    "fig.show()"
   ]
  },
  {
   "cell_type": "markdown",
   "id": "43a4c4b1",
   "metadata": {},
   "source": [
    "- go.Chart() : go.Bar(), go.Scatter 등과 같은 Chart 종류를 입력"
   ]
  }
 ],
 "metadata": {
  "kernelspec": {
   "display_name": "Python 3 (ipykernel)",
   "language": "python",
   "name": "python3"
  },
  "language_info": {
   "codemirror_mode": {
    "name": "ipython",
    "version": 3
   },
   "file_extension": ".py",
   "mimetype": "text/x-python",
   "name": "python",
   "nbconvert_exporter": "python",
   "pygments_lexer": "ipython3",
   "version": "3.9.7"
  }
 },
 "nbformat": 4,
 "nbformat_minor": 5
}
